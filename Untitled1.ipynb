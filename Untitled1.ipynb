{
 "cells": [
  {
   "cell_type": "code",
   "execution_count": 2,
   "id": "8fc7d261-72e0-4161-b8f3-19879e892336",
   "metadata": {},
   "outputs": [
    {
     "name": "stdout",
     "output_type": "stream",
     "text": [
      "None\n",
      "False\n"
     ]
    }
   ],
   "source": [
    "class Vehicle:\n",
    "    def __init__(self, fare):\n",
    "        self.fare = fare\n",
    "\n",
    "    def __add__(self, other):\n",
    "        return self.fare + other.fare\n",
    "\n",
    "    def __lt__(self, other):\n",
    "        return self.fare < other.fare\n",
    "        \n",
    "bus= Vehicle(20)\n",
    "car= Vehicle(30)\n",
    "\n",
    "total_fare = bus + car\n",
    "print(total_fare)\n",
    "\n",
    "compare = bus < car\n",
    "print(compare)"
   ]
  }
 ],
 "metadata": {
  "kernelspec": {
   "display_name": "Python 3 (ipykernel)",
   "language": "python",
   "name": "python3"
  },
  "language_info": {
   "codemirror_mode": {
    "name": "ipython",
    "version": 3
   },
   "file_extension": ".py",
   "mimetype": "text/x-python",
   "name": "python",
   "nbconvert_exporter": "python",
   "pygments_lexer": "ipython3",
   "version": "3.12.9"
  }
 },
 "nbformat": 4,
 "nbformat_minor": 5
}
