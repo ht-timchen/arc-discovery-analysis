{
 "cells": [
  {
   "cell_type": "code",
   "execution_count": 4,
   "id": "bb139f52-fb2d-4b59-a913-ab0faa62f1d2",
   "metadata": {},
   "outputs": [
    {
     "name": "stdout",
     "output_type": "stream",
     "text": [
      "Before call: 100\n"
     ]
    },
    {
     "ename": "UnboundLocalError",
     "evalue": "cannot access local variable 'value' where it is not associated with a value",
     "output_type": "error",
     "traceback": [
      "\u001b[0;31m---------------------------------------------------------------------------\u001b[0m",
      "\u001b[0;31mUnboundLocalError\u001b[0m                         Traceback (most recent call last)",
      "Cell \u001b[0;32mIn[4], line 10\u001b[0m\n\u001b[1;32m      7\u001b[0m   \u001b[38;5;28mprint\u001b[39m(\u001b[38;5;124m\"\u001b[39m\u001b[38;5;124mValue inside function:\u001b[39m\u001b[38;5;124m\"\u001b[39m, value)\n\u001b[1;32m      9\u001b[0m \u001b[38;5;28mprint\u001b[39m(\u001b[38;5;124m\"\u001b[39m\u001b[38;5;124mBefore call:\u001b[39m\u001b[38;5;124m\"\u001b[39m, value)\n\u001b[0;32m---> 10\u001b[0m conditional_update(\u001b[38;5;28;01mFalse\u001b[39;00m)\n\u001b[1;32m     11\u001b[0m \u001b[38;5;28mprint\u001b[39m(\u001b[38;5;124m\"\u001b[39m\u001b[38;5;124mAfter call:\u001b[39m\u001b[38;5;124m\"\u001b[39m, value)\n",
      "Cell \u001b[0;32mIn[4], line 7\u001b[0m, in \u001b[0;36mconditional_update\u001b[0;34m(make_update)\u001b[0m\n\u001b[1;32m      5\u001b[0m   \u001b[38;5;28mprint\u001b[39m(\u001b[38;5;124m\"\u001b[39m\u001b[38;5;124mUpdating value...\u001b[39m\u001b[38;5;124m\"\u001b[39m)\n\u001b[1;32m      6\u001b[0m   value \u001b[38;5;241m=\u001b[39m \u001b[38;5;241m50\u001b[39m \u001b[38;5;66;03m# Assignment within the function\u001b[39;00m\n\u001b[0;32m----> 7\u001b[0m \u001b[38;5;28mprint\u001b[39m(\u001b[38;5;124m\"\u001b[39m\u001b[38;5;124mValue inside function:\u001b[39m\u001b[38;5;124m\"\u001b[39m, value)\n",
      "\u001b[0;31mUnboundLocalError\u001b[0m: cannot access local variable 'value' where it is not associated with a value"
     ]
    }
   ],
   "source": [
    "value = 100 # Global variable\n",
    "\n",
    "def conditional_update(make_update):\n",
    "    if make_update:\n",
    "        print(\"Updating value...\")\n",
    "        value = 50 \n",
    "    print(\"Value inside function:\", value)\n",
    "\n",
    "print(\"Before call:\", value)\n",
    "conditional_update(True)\n",
    "print(\"After call:\", value)"
   ]
  },
  {
   "cell_type": "code",
   "execution_count": 5,
   "id": "c523575e-ff1d-4431-9424-7dc82094dcb1",
   "metadata": {},
   "outputs": [
    {
     "name": "stdout",
     "output_type": "stream",
     "text": [
      "Before call: [1, 2, 3]\n",
      "Inside function: [1, 2, 3, 4]\n",
      "After call: [1, 2, 3, 4]\n"
     ]
    }
   ],
   "source": [
    "my_list = [1, 2, 3] # Global list\n",
    "\n",
    "def append_to_list(item):\n",
    "  my_list.append(item)\n",
    "  print(\"Inside function:\", my_list)\n",
    "\n",
    "print(\"Before call:\", my_list)\n",
    "append_to_list(4)\n",
    "print(\"After call:\", my_list)"
   ]
  },
  {
   "cell_type": "code",
   "execution_count": 6,
   "id": "f3cdd13d-d114-479f-b789-fb01286d638f",
   "metadata": {},
   "outputs": [
    {
     "name": "stdout",
     "output_type": "stream",
     "text": [
      "Before call: [1, 2, 3]\n",
      "Inside function: [2, 4, 5]\n",
      "After call: [1, 2, 3]\n"
     ]
    }
   ],
   "source": [
    "my_list = [1, 2, 3] # Global list\n",
    "\n",
    "def append_to_list(item):\n",
    "  my_list = [2, 4, 5]\n",
    "  print(\"Inside function:\", my_list)\n",
    "\n",
    "print(\"Before call:\", my_list)\n",
    "append_to_list(4)\n",
    "print(\"After call:\", my_list)"
   ]
  },
  {
   "cell_type": "code",
   "execution_count": 11,
   "id": "fefd72f5-0a1b-4490-9228-dfe430d00448",
   "metadata": {},
   "outputs": [
    {
     "ename": "TypeError",
     "evalue": "'set' object is not subscriptable",
     "output_type": "error",
     "traceback": [
      "\u001b[0;31m---------------------------------------------------------------------------\u001b[0m",
      "\u001b[0;31mTypeError\u001b[0m                                 Traceback (most recent call last)",
      "Cell \u001b[0;32mIn[11], line 3\u001b[0m\n\u001b[1;32m      1\u001b[0m my_set \u001b[38;5;241m=\u001b[39m \u001b[38;5;28mset\u001b[39m() \u001b[38;5;66;03m# empty set\u001b[39;00m\n\u001b[1;32m      2\u001b[0m my_set \u001b[38;5;241m=\u001b[39m {\u001b[38;5;241m1\u001b[39m, \u001b[38;5;241m2\u001b[39m, \u001b[38;5;241m3\u001b[39m}\n\u001b[0;32m----> 3\u001b[0m my_set[\u001b[38;5;241m0\u001b[39m]\n\u001b[1;32m      5\u001b[0m my_set\u001b[38;5;241m=\u001b[39m {\u001b[38;5;241m5\u001b[39m, \u001b[38;5;241m7\u001b[39m, \u001b[38;5;241m12\u001b[39m, \u001b[38;5;241m5\u001b[39m, \u001b[38;5;241m7\u001b[39m}\n\u001b[1;32m      6\u001b[0m \u001b[38;5;28mprint\u001b[39m(my_set)\n",
      "\u001b[0;31mTypeError\u001b[0m: 'set' object is not subscriptable"
     ]
    }
   ],
   "source": [
    "my_set = set() # empty set\n",
    "my_set = {1, 2, 3}\n",
    "my_set[0] # error"
   ]
  },
  {
   "cell_type": "code",
   "execution_count": 12,
   "id": "77aa95ba-af19-489e-9466-0cbf5143288c",
   "metadata": {},
   "outputs": [
    {
     "name": "stdout",
     "output_type": "stream",
     "text": [
      "{12, 5, 7}\n"
     ]
    }
   ],
   "source": [
    "my_set= {5, 7, 12, 5, 7}\n",
    "print(my_set)"
   ]
  },
  {
   "cell_type": "code",
   "execution_count": 14,
   "id": "b5d5a35e-5b83-4190-b62a-4c92a5c99a2d",
   "metadata": {},
   "outputs": [
    {
     "name": "stdout",
     "output_type": "stream",
     "text": [
      "[3, 5, 7, 12, 19]\n"
     ]
    }
   ],
   "source": [
    "my_list = [5, 7, 12, 19, 3, 5]\n",
    "unique_list = list(set(my_list)) # convert to set, then back to list\n",
    "print(unique_list)"
   ]
  },
  {
   "cell_type": "code",
   "execution_count": null,
   "id": "5ed13572-5a65-4f74-97af-f1e90f8c0806",
   "metadata": {},
   "outputs": [],
   "source": [
    "coordinates = (10.0, 25.5)"
   ]
  },
  {
   "cell_type": "code",
   "execution_count": 17,
   "id": "e7165f43-1a15-4277-bd80-cdec4ddd3e0c",
   "metadata": {},
   "outputs": [
    {
     "name": "stdout",
     "output_type": "stream",
     "text": [
      "[16, 25, 36, 49, 64, 81]\n"
     ]
    }
   ],
   "source": [
    "n = [x * x for x in range(10) if x > 3]\n",
    "print(n)"
   ]
  }
 ],
 "metadata": {
  "kernelspec": {
   "display_name": "Python 3 (ipykernel)",
   "language": "python",
   "name": "python3"
  },
  "language_info": {
   "codemirror_mode": {
    "name": "ipython",
    "version": 3
   },
   "file_extension": ".py",
   "mimetype": "text/x-python",
   "name": "python",
   "nbconvert_exporter": "python",
   "pygments_lexer": "ipython3",
   "version": "3.12.9"
  }
 },
 "nbformat": 4,
 "nbformat_minor": 5
}
